{
 "cells": [
  {
   "cell_type": "markdown",
   "id": "0c105308",
   "metadata": {},
   "source": [
    "# Describing Distributions (Core) \n",
    "\n",
    "Tijesunimi Odebode\n",
    "\n",
    "5/6/2022"
   ]
  },
  {
   "cell_type": "code",
   "execution_count": 1,
   "id": "2205f040",
   "metadata": {},
   "outputs": [],
   "source": [
    "import pandas as pd\n",
    "import numpy as np\n",
    "import matplotlib.pyplot as plt\n",
    "import seaborn as sns"
   ]
  },
  {
   "cell_type": "code",
   "execution_count": 2,
   "id": "45e323e3",
   "metadata": {},
   "outputs": [
    {
     "data": {
      "text/html": [
       "<div>\n",
       "<style scoped>\n",
       "    .dataframe tbody tr th:only-of-type {\n",
       "        vertical-align: middle;\n",
       "    }\n",
       "\n",
       "    .dataframe tbody tr th {\n",
       "        vertical-align: top;\n",
       "    }\n",
       "\n",
       "    .dataframe thead th {\n",
       "        text-align: right;\n",
       "    }\n",
       "</style>\n",
       "<table border=\"1\" class=\"dataframe\">\n",
       "  <thead>\n",
       "    <tr style=\"text-align: right;\">\n",
       "      <th></th>\n",
       "      <th>State</th>\n",
       "      <th>Lat</th>\n",
       "      <th>Lng</th>\n",
       "      <th>Area</th>\n",
       "      <th>Children</th>\n",
       "      <th>Age</th>\n",
       "      <th>Income</th>\n",
       "      <th>Marital</th>\n",
       "      <th>Gender</th>\n",
       "      <th>ReAdmis</th>\n",
       "      <th>...</th>\n",
       "      <th>Hyperlipidemia</th>\n",
       "      <th>BackPain</th>\n",
       "      <th>Anxiety</th>\n",
       "      <th>Allergic_rhinitis</th>\n",
       "      <th>Reflux_esophagitis</th>\n",
       "      <th>Asthma</th>\n",
       "      <th>Services</th>\n",
       "      <th>Initial_days</th>\n",
       "      <th>TotalCharge</th>\n",
       "      <th>Additional_charges</th>\n",
       "    </tr>\n",
       "  </thead>\n",
       "  <tbody>\n",
       "    <tr>\n",
       "      <th>0</th>\n",
       "      <td>AL</td>\n",
       "      <td>34.34960</td>\n",
       "      <td>-86.72508</td>\n",
       "      <td>Suburban</td>\n",
       "      <td>1.0</td>\n",
       "      <td>53</td>\n",
       "      <td>86575.93</td>\n",
       "      <td>Divorced</td>\n",
       "      <td>Male</td>\n",
       "      <td>0</td>\n",
       "      <td>...</td>\n",
       "      <td>0.0</td>\n",
       "      <td>1.0</td>\n",
       "      <td>1.0</td>\n",
       "      <td>1.0</td>\n",
       "      <td>0</td>\n",
       "      <td>1</td>\n",
       "      <td>Blood Work</td>\n",
       "      <td>10.585770</td>\n",
       "      <td>3726.702860</td>\n",
       "      <td>17939.403420</td>\n",
       "    </tr>\n",
       "    <tr>\n",
       "      <th>1</th>\n",
       "      <td>FL</td>\n",
       "      <td>30.84513</td>\n",
       "      <td>-85.22907</td>\n",
       "      <td>Urban</td>\n",
       "      <td>3.0</td>\n",
       "      <td>51</td>\n",
       "      <td>46805.99</td>\n",
       "      <td>Married</td>\n",
       "      <td>Female</td>\n",
       "      <td>0</td>\n",
       "      <td>...</td>\n",
       "      <td>0.0</td>\n",
       "      <td>0.0</td>\n",
       "      <td>0.0</td>\n",
       "      <td>0.0</td>\n",
       "      <td>1</td>\n",
       "      <td>0</td>\n",
       "      <td>Intravenous</td>\n",
       "      <td>15.129562</td>\n",
       "      <td>4193.190458</td>\n",
       "      <td>17612.998120</td>\n",
       "    </tr>\n",
       "    <tr>\n",
       "      <th>2</th>\n",
       "      <td>SD</td>\n",
       "      <td>43.54321</td>\n",
       "      <td>-96.63772</td>\n",
       "      <td>Suburban</td>\n",
       "      <td>3.0</td>\n",
       "      <td>53</td>\n",
       "      <td>14370.14</td>\n",
       "      <td>Widowed</td>\n",
       "      <td>Female</td>\n",
       "      <td>0</td>\n",
       "      <td>...</td>\n",
       "      <td>0.0</td>\n",
       "      <td>0.0</td>\n",
       "      <td>0.0</td>\n",
       "      <td>0.0</td>\n",
       "      <td>0</td>\n",
       "      <td>0</td>\n",
       "      <td>Blood Work</td>\n",
       "      <td>4.772177</td>\n",
       "      <td>2434.234222</td>\n",
       "      <td>17505.192460</td>\n",
       "    </tr>\n",
       "    <tr>\n",
       "      <th>3</th>\n",
       "      <td>MN</td>\n",
       "      <td>43.89744</td>\n",
       "      <td>-93.51479</td>\n",
       "      <td>Suburban</td>\n",
       "      <td>0.0</td>\n",
       "      <td>78</td>\n",
       "      <td>39741.49</td>\n",
       "      <td>Married</td>\n",
       "      <td>Male</td>\n",
       "      <td>0</td>\n",
       "      <td>...</td>\n",
       "      <td>0.0</td>\n",
       "      <td>0.0</td>\n",
       "      <td>0.0</td>\n",
       "      <td>0.0</td>\n",
       "      <td>1</td>\n",
       "      <td>1</td>\n",
       "      <td>Blood Work</td>\n",
       "      <td>1.714879</td>\n",
       "      <td>2127.830423</td>\n",
       "      <td>12993.437350</td>\n",
       "    </tr>\n",
       "    <tr>\n",
       "      <th>4</th>\n",
       "      <td>VA</td>\n",
       "      <td>37.59894</td>\n",
       "      <td>-76.88958</td>\n",
       "      <td>Rural</td>\n",
       "      <td>1.0</td>\n",
       "      <td>22</td>\n",
       "      <td>1209.56</td>\n",
       "      <td>Widowed</td>\n",
       "      <td>Female</td>\n",
       "      <td>0</td>\n",
       "      <td>...</td>\n",
       "      <td>1.0</td>\n",
       "      <td>0.0</td>\n",
       "      <td>0.0</td>\n",
       "      <td>1.0</td>\n",
       "      <td>0</td>\n",
       "      <td>0</td>\n",
       "      <td>CT Scan</td>\n",
       "      <td>1.254807</td>\n",
       "      <td>2113.073274</td>\n",
       "      <td>3716.525786</td>\n",
       "    </tr>\n",
       "  </tbody>\n",
       "</table>\n",
       "<p>5 rows × 32 columns</p>\n",
       "</div>"
      ],
      "text/plain": [
       "  State       Lat       Lng      Area  Children  Age    Income   Marital  \\\n",
       "0    AL  34.34960 -86.72508  Suburban       1.0   53  86575.93  Divorced   \n",
       "1    FL  30.84513 -85.22907     Urban       3.0   51  46805.99   Married   \n",
       "2    SD  43.54321 -96.63772  Suburban       3.0   53  14370.14   Widowed   \n",
       "3    MN  43.89744 -93.51479  Suburban       0.0   78  39741.49   Married   \n",
       "4    VA  37.59894 -76.88958     Rural       1.0   22   1209.56   Widowed   \n",
       "\n",
       "   Gender  ReAdmis  ...  Hyperlipidemia  BackPain  Anxiety  Allergic_rhinitis  \\\n",
       "0    Male        0  ...             0.0       1.0      1.0                1.0   \n",
       "1  Female        0  ...             0.0       0.0      0.0                0.0   \n",
       "2  Female        0  ...             0.0       0.0      0.0                0.0   \n",
       "3    Male        0  ...             0.0       0.0      0.0                0.0   \n",
       "4  Female        0  ...             1.0       0.0      0.0                1.0   \n",
       "\n",
       "   Reflux_esophagitis Asthma     Services  Initial_days  TotalCharge  \\\n",
       "0                   0      1   Blood Work     10.585770  3726.702860   \n",
       "1                   1      0  Intravenous     15.129562  4193.190458   \n",
       "2                   0      0   Blood Work      4.772177  2434.234222   \n",
       "3                   1      1   Blood Work      1.714879  2127.830423   \n",
       "4                   0      0      CT Scan      1.254807  2113.073274   \n",
       "\n",
       "   Additional_charges  \n",
       "0        17939.403420  \n",
       "1        17612.998120  \n",
       "2        17505.192460  \n",
       "3        12993.437350  \n",
       "4         3716.525786  \n",
       "\n",
       "[5 rows x 32 columns]"
      ]
     },
     "execution_count": 2,
     "metadata": {},
     "output_type": "execute_result"
    }
   ],
   "source": [
    "filename = 'data.csv'\n",
    "df = pd.read_csv(filename)\n",
    "df.head()"
   ]
  },
  {
   "cell_type": "markdown",
   "id": "71f3642e",
   "metadata": {},
   "source": [
    "## 1. VitD_levels\n",
    "\n",
    "a) Plot a histogram with a kde (kernel density estimate)\n",
    "- Add a line for the mean (red)\n",
    "- Add a line for the median (green)\n",
    "- Add a line for for +1 std from the mean (black)\n",
    "- Add a line for the - 1 std from the mean (black)\n",
    "- Highlight the range between +1 and =1 std (yellow)"
   ]
  },
  {
   "cell_type": "code",
   "execution_count": 3,
   "id": "ed8e2f79",
   "metadata": {},
   "outputs": [
    {
     "data": {
      "image/png": "[encoded data removed]",
      "text/plain": [
       "<Figure size 720x432 with 1 Axes>"
      ]
     },
     "metadata": {
      "needs_background": "light"
     },
     "output_type": "display_data"
    }
   ],
   "source": [
    "# Plot a histogram with a kde (kernel density estimate)\n",
    "col = 'VitD_levels'\n",
    "feature = df[col]\n",
    "mean = feature.mean()\n",
    "median = feature.median()\n",
    "std = feature.std()\n",
    "plus_one_std = mean + std\n",
    "minus_one_std = mean - std\n",
    "fig,ax = plt.subplots(figsize=(10,6))\n",
    "sns.histplot(feature, ax = ax, stat='probability', kde = True)\n",
    "ax.axvline(mean, color = 'red', label= f'Mean = {mean:,.2f}')\n",
    "ax.axvline(median, ls='--', color = 'green', label = f'Median = {median:,.2f}')\n",
    "ax.axvline(plus_one_std, color = 'black',label=f'+1 std = {plus_one_std:,.2f}')\n",
    "ax.axvline(minus_one_std, color = 'black', label = f'-1 std = {minus_one_std:,.2f}')\n",
    "ax.axvspan(plus_one_std, minus_one_std, color = 'yellow', zorder = 0)\n",
    "ax.set_title(col)\n",
    "ax.legend();"
   ]
  },
  {
   "cell_type": "markdown",
   "id": "f19a6605",
   "metadata": {},
   "source": [
    "b) Answer the following questions:\n",
    "- Is it Discrete or Continuous?\n",
    "\n",
    "<b>Answer: It is continuous. The histogram bars do not have gaps in between them.\n",
    "\n",
    "- Does it have a skew? If so, which direction (+/-)\n",
    "    \n",
    "<b>Answer: It does not have a skew\n",
    "    \n",
    "- What type of kurtosis does it display? (Mesokurtic, Leptokurtic, Platykurtic)\n",
    "    \n",
    "<b>Answer: It displays 'Mesokurtic.'"
   ]
  },
  {
   "cell_type": "code",
   "execution_count": 4,
   "id": "3116ffcf",
   "metadata": {},
   "outputs": [
    {
     "data": {
      "text/plain": [
       "'-0.00'"
      ]
     },
     "execution_count": 4,
     "metadata": {},
     "output_type": "execute_result"
    }
   ],
   "source": [
    "# Confirm that there is no skew\n",
    "from scipy import stats\n",
    "skew = stats.skew(feature)\n",
    "f'{skew:,.2f}'"
   ]
  },
  {
   "cell_type": "markdown",
   "id": "cfda9176",
   "metadata": {},
   "source": [
    "- Considering the above calculation gives approximately 0.00, we can confirm that there is no skew in our data set"
   ]
  },
  {
   "cell_type": "code",
   "execution_count": 5,
   "id": "cc205457",
   "metadata": {},
   "outputs": [
    {
     "data": {
      "text/plain": [
       "3.013147515833447"
      ]
     },
     "execution_count": 5,
     "metadata": {},
     "output_type": "execute_result"
    }
   ],
   "source": [
    "# Confirm that it displays 'Mesokurtic.'\n",
    "from scipy import stats\n",
    "kurt = stats.kurtosis(feature, fisher = False)\n",
    "kurt"
   ]
  },
  {
   "cell_type": "markdown",
   "id": "68380f51",
   "metadata": {},
   "source": [
    "- The Kurtosis is approximately 3, confirming that the display is Mesokurtic"
   ]
  },
  {
   "cell_type": "markdown",
   "id": "8fd74e19",
   "metadata": {},
   "source": [
    "## 2. Doc_visits\n",
    "\n",
    "a) Plot a histogram with a kde (kernel density estimate)\n",
    "- Add a line for the mean (red)\n",
    "- Add a line for the median (green)\n",
    "- Add a line for for +1 std from the mean (black)\n",
    "- Add a line for the - 1 std from the mean (black)\n",
    "- Highlight the range between +1 and =1 std (yellow)"
   ]
  },
  {
   "cell_type": "code",
   "execution_count": 6,
   "id": "8b7cc047",
   "metadata": {},
   "outputs": [
    {
     "data": {
      "image/png": "[encoded data removed]",
      "text/plain": [
       "<Figure size 720x432 with 1 Axes>"
      ]
     },
     "metadata": {
      "needs_background": "light"
     },
     "output_type": "display_data"
    }
   ],
   "source": [
    "# Plot a histogram with a kde (kernel density estimate)\n",
    "col = 'Doc_visits'\n",
    "feature = df[col]\n",
    "mean = feature.mean()\n",
    "median = feature.median()\n",
    "std = feature.std()\n",
    "plus_one_std = mean + std\n",
    "minus_one_std = mean - std\n",
    "fig,ax = plt.subplots(figsize=(10,6))\n",
    "sns.histplot(feature, ax = ax, stat='probability', kde = True)\n",
    "ax.axvline(mean, color = 'red', label= f'Mean = {mean:,.2f}')\n",
    "ax.axvline(median, ls='--', color = 'green', label = f'Median = {median:,.2f}')\n",
    "ax.axvline(plus_one_std, color = 'black',label=f'+1 std = {plus_one_std:,.2f}')\n",
    "ax.axvline(minus_one_std, color = 'black', label = f'-1 std = {minus_one_std:,.2f}')\n",
    "ax.axvspan(plus_one_std, minus_one_std, color = 'yellow', zorder = 0)\n",
    "ax.set_title(f'{col}')\n",
    "ax.legend();"
   ]
  },
  {
   "cell_type": "markdown",
   "id": "702fdc90",
   "metadata": {},
   "source": [
    "b) Answer the following questions:\n",
    "- Is it Discrete or Continuous?\n",
    "\n",
    "<b>Answer: It is discrete. The histogram bars have gaps in between them.\n",
    "\n",
    "- Does it have a skew? If so, which direction (+/-)\n",
    "    \n",
    "<b>Answer: It does not have a skew\n",
    "    \n",
    "- What type of kurtosis does it display? (Mesokurtic, Leptokurtic, Platykurtic)\n",
    "    \n",
    "<b>Answer: It displays 'Mesokurtic.'"
   ]
  },
  {
   "cell_type": "code",
   "execution_count": 7,
   "id": "f5738d66",
   "metadata": {},
   "outputs": [
    {
     "data": {
      "text/plain": [
       "2      5\n",
       "3     69\n",
       "4    232\n",
       "5    394\n",
       "6    229\n",
       "7     66\n",
       "8      4\n",
       "9      1\n",
       "Name: Doc_visits, dtype: int64"
      ]
     },
     "execution_count": 7,
     "metadata": {},
     "output_type": "execute_result"
    }
   ],
   "source": [
    "# Confirm that our dataset is discrete\n",
    "df['Doc_visits'].value_counts().sort_index()"
   ]
  },
  {
   "cell_type": "markdown",
   "id": "26693723",
   "metadata": {},
   "source": [
    "- Considering the values in the 'Doc_visits' column are integers, we can confirm that our dataset is discrete."
   ]
  },
  {
   "cell_type": "code",
   "execution_count": 8,
   "id": "581737c4",
   "metadata": {},
   "outputs": [
    {
     "data": {
      "text/plain": [
       "'0.03'"
      ]
     },
     "execution_count": 8,
     "metadata": {},
     "output_type": "execute_result"
    }
   ],
   "source": [
    "# Confirm that there is no skew\n",
    "skew1 = stats.skew(feature)\n",
    "f'{skew1:,.2f}'"
   ]
  },
  {
   "cell_type": "markdown",
   "id": "89988ada",
   "metadata": {},
   "source": [
    "- Considering the above calculation gives approximately 0.0, we can confirm that there is no skew in our data set"
   ]
  },
  {
   "cell_type": "code",
   "execution_count": 9,
   "id": "793a76ab",
   "metadata": {},
   "outputs": [
    {
     "data": {
      "text/plain": [
       "2.9919958083381206"
      ]
     },
     "execution_count": 9,
     "metadata": {},
     "output_type": "execute_result"
    }
   ],
   "source": [
    "# Confirm that it displays 'Mesokurtic.'\n",
    "kurt1 = stats.kurtosis(feature, fisher = False)\n",
    "kurt1"
   ]
  },
  {
   "cell_type": "markdown",
   "id": "a563e11e",
   "metadata": {},
   "source": [
    "- The Kurtosis is approximately 3, confirming that the display is Mesokurtic"
   ]
  },
  {
   "cell_type": "markdown",
   "id": "761d1456",
   "metadata": {},
   "source": [
    "## 3. TotalCharge\n",
    "\n",
    "a) Plot a histogram with a kde (kernel density estimate)\n",
    "\n",
    "    Add a line for the mean (red)\n",
    "    Add a line for the median (green)\n",
    "    Add a line for for +1 std from the mean (black)\n",
    "    Add a line for the - 1 std from the mean (black)\n",
    "    Highlight the range between +1 and =1 std (yellow)\n",
    "\n"
   ]
  },
  {
   "cell_type": "code",
   "execution_count": 10,
   "id": "3dc043ce",
   "metadata": {
    "scrolled": true
   },
   "outputs": [
    {
     "data": {
      "image/png": "[encoded data removed]",
      "text/plain": [
       "<Figure size 720x432 with 1 Axes>"
      ]
     },
     "metadata": {
      "needs_background": "light"
     },
     "output_type": "display_data"
    }
   ],
   "source": [
    "# Plot a histogram with a kde (kernel density estimate)\n",
    "col = 'TotalCharge'\n",
    "feature = df[col]\n",
    "mean = feature.mean()\n",
    "median = feature.median()\n",
    "std = feature.std()\n",
    "plus_one_std = mean + std\n",
    "minus_one_std = mean - std\n",
    "fig,ax = plt.subplots(figsize=(10,6))\n",
    "sns.histplot(feature, ax = ax, stat='probability', kde = True)\n",
    "ax.axvline(mean, color = 'red', label= f'Mean = {mean:,.2f}')\n",
    "ax.axvline(median, ls='--', color = 'green', label = f'Median = {median:,.2f}')\n",
    "ax.axvline(plus_one_std, color = 'black',label=f'+1 std = {plus_one_std:,.2f}')\n",
    "ax.axvline(minus_one_std, color = 'black', label = f'-1 std = {minus_one_std:,.2f}')\n",
    "ax.axvspan(plus_one_std, minus_one_std, color = 'yellow', zorder = 0)\n",
    "ax.set_title(f'{col}')\n",
    "ax.legend();"
   ]
  },
  {
   "cell_type": "markdown",
   "id": "03db6766",
   "metadata": {},
   "source": [
    "b) Answer the following questions:\n",
    "- Is it Discrete or Continuous?\n",
    "\n",
    "<b>Answer: It is continuous.The histogram bars do not have gaps in between them.\n",
    "\n",
    "- Does it have a skew? If so, which direction (+/-)\n",
    "    \n",
    "<b>Answer: It looks like there is a skew. The skew is to the positive direction. \n",
    "    \n",
    "- What type of kurtosis does it display? (Mesokurtic, Leptokurtic, Platykurtic)\n",
    "    \n",
    "<b>Answer: It displays 'Mesokurtic.'"
   ]
  },
  {
   "cell_type": "code",
   "execution_count": 11,
   "id": "c7f53abe",
   "metadata": {},
   "outputs": [
    {
     "data": {
      "text/plain": [
       "'0.58'"
      ]
     },
     "execution_count": 11,
     "metadata": {},
     "output_type": "execute_result"
    }
   ],
   "source": [
    "# Confirm the skew\n",
    "skew2 = stats.skew(feature)\n",
    "f'{skew2:,.2f}'"
   ]
  },
  {
   "cell_type": "markdown",
   "id": "1ca23714",
   "metadata": {},
   "source": [
    "- Considering the above calculation gives 0.58, it seems like there is a skew in our data set."
   ]
  },
  {
   "cell_type": "code",
   "execution_count": 12,
   "id": "bad63eeb",
   "metadata": {},
   "outputs": [
    {
     "data": {
      "text/plain": [
       "3.2650077463439384"
      ]
     },
     "execution_count": 12,
     "metadata": {},
     "output_type": "execute_result"
    }
   ],
   "source": [
    "# Confirm that it displays 'Mesokurtic.'\n",
    "kurt2 = stats.kurtosis(feature, fisher = False)\n",
    "kurt2"
   ]
  },
  {
   "cell_type": "markdown",
   "id": "17ea23ed",
   "metadata": {},
   "source": [
    "- The Kurtosis is a bit higher than 3 but it is approximately 3. We can say that the display is Mesokurtic."
   ]
  }
 ],
 "metadata": {
  "kernelspec": {
   "display_name": "Python (dojo-env)",
   "language": "python",
   "name": "dojo-env"
  },
  "language_info": {
   "codemirror_mode": {
    "name": "ipython",
    "version": 3
   },
   "file_extension": ".py",
   "mimetype": "text/x-python",
   "name": "python",
   "nbconvert_exporter": "python",
   "pygments_lexer": "ipython3",
   "version": "3.7.12"
  },
  "toc": {
   "base_numbering": 1,
   "nav_menu": {},
   "number_sections": false,
   "sideBar": true,
   "skip_h1_title": false,
   "title_cell": "Table of Contents",
   "title_sidebar": "Contents",
   "toc_cell": false,
   "toc_position": {},
   "toc_section_display": true,
   "toc_window_display": false
  }
 },
 "nbformat": 4,
 "nbformat_minor": 5
}
